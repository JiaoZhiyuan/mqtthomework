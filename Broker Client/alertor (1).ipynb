{
  "nbformat": 4,
  "nbformat_minor": 0,
  "metadata": {
    "colab": {
      "provenance": []
    },
    "kernelspec": {
      "name": "python3",
      "display_name": "Python 3"
    },
    "language_info": {
      "name": "python"
    }
  },
  "cells": [
    {
      "cell_type": "code",
      "source": [
        "!pip install paho-mqtt"
      ],
      "metadata": {
        "id": "0wSY2QoF8OqA"
      },
      "execution_count": null,
      "outputs": []
    },
    {
      "cell_type": "code",
      "execution_count": null,
      "metadata": {
        "id": "onPuGmwC6a7W"
      },
      "outputs": [],
      "source": [
        "import paho.mqtt.client as mqtt\n",
        "from sklearn import svm\n",
        "import numpy as np\n",
        "\n",
        "broker_address = \"ke46e1b0.ala.cn-hangzhou.emqxsl.cn\"  # 替换为你的MQTT代理地址\n",
        "port = 8883\n",
        "topic = \"patient/heartbeat\"\n",
        "username = \"test\"  # MQTT用户名\n",
        "password = \"1\"     # MQTT密码\n",
        "\n",
        "# 训练简单的SVM模型来分类心跳数据\n",
        "def train_svm():\n",
        "    # 正常心跳数据 (90-120)\n",
        "    X_normal = np.random.randint(90, 121, (50, 1))\n",
        "    y_normal = np.zeros(50)  # 正常\n",
        "\n",
        "    # 异常心跳数据\n",
        "    X_abnormal = np.concatenate([np.random.randint(60, 90, (25, 1)), np.random.randint(121, 150, (25, 1))])\n",
        "    y_abnormal = np.ones(50)  # 异常\n",
        "\n",
        "    # 合并数据\n",
        "    X = np.vstack((X_normal, X_abnormal))\n",
        "    y = np.concatenate((y_normal, y_abnormal))\n",
        "\n",
        "    model = svm.SVC(kernel='linear')\n",
        "    model.fit(X, y)\n",
        "    return model\n",
        "\n",
        "model = train_svm()\n",
        "\n",
        "def on_connect(client, userdata, flags, rc):\n",
        "    if rc == 0:\n",
        "        print(\"Connected to broker\")\n",
        "        client.subscribe(topic)\n",
        "    else:\n",
        "        print(\"Connection failed with code\", rc)\n",
        "\n",
        "def on_message(client, userdata, message):\n",
        "    heartbeat = int(message.payload.decode(\"utf-8\"))\n",
        "    print(f\"Received heartbeat: {heartbeat}\")\n",
        "\n",
        "    # 预测心跳状态\n",
        "    prediction = model.predict([[heartbeat]])\n",
        "    if prediction == 0:\n",
        "        print(\"Heartbeat is normal\")\n",
        "    else:\n",
        "        print(\"Heartbeat is abnormal\")\n",
        "\n",
        "client = mqtt.Client()\n",
        "client.username_pw_set(username, password)  # 设置MQTT用户名和密码\n",
        "client.on_connect = on_connect\n",
        "client.on_message = on_message\n",
        "\n",
        "client.connect(broker_address, port)\n",
        "client.loop_forever()\n",
        "\n"
      ]
    }
  ]
}