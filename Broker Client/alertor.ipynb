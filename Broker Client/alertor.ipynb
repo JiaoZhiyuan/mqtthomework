{
  "nbformat": 4,
  "nbformat_minor": 0,
  "metadata": {
    "colab": {
      "provenance": []
    },
    "kernelspec": {
      "name": "python3",
      "display_name": "Python 3"
    },
    "language_info": {
      "name": "python"
    }
  },
  "cells": [
    {
      "cell_type": "code",
      "source": [
        "!pip install paho-mqtt"
      ],
      "metadata": {
        "id": "0wSY2QoF8OqA",
        "colab": {
          "base_uri": "https://localhost:8080/"
        },
        "collapsed": true,
        "outputId": "d418ca51-03c4-42f3-d920-ddd60fc264ea"
      },
      "execution_count": 1,
      "outputs": [
        {
          "output_type": "stream",
          "name": "stdout",
          "text": [
            "Collecting paho-mqtt\n",
            "  Downloading paho_mqtt-2.1.0-py3-none-any.whl (67 kB)\n",
            "\u001b[2K     \u001b[90m━━━━━━━━━━━━━━━━━━━━━━━━━━━━━━━━━━━━━━━━\u001b[0m \u001b[32m67.2/67.2 kB\u001b[0m \u001b[31m626.8 kB/s\u001b[0m eta \u001b[36m0:00:00\u001b[0m\n",
            "\u001b[?25hInstalling collected packages: paho-mqtt\n",
            "Successfully installed paho-mqtt-2.1.0\n"
          ]
        }
      ]
    },
    {
      "cell_type": "code",
      "source": [
        "# 训练简单的SVM模型来分类心跳数据\n",
        "def train_svm():\n",
        "    # 正常心跳数据 (90-120)\n",
        "    X_normal = np.random.randint(90, 121, (50, 1))\n",
        "    y_normal = np.zeros(50)  # 正常\n",
        "\n",
        "    # 异常心跳数据\n",
        "    X_abnormal = np.concatenate([np.random.randint(60, 90, (25, 1)), np.random.randint(121, 150, (25, 1))])\n",
        "    y_abnormal = np.ones(50)  # 异常\n",
        "\n",
        "    # 合并数据\n",
        "    X = np.vstack((X_normal, X_abnormal))\n",
        "    y = np.concatenate((y_normal, y_abnormal))\n",
        "\n",
        "    model = svm.SVC(kernel='linear')\n",
        "    model.fit(X, y)\n",
        "    return model\n",
        "\n",
        "model = train_svm()\n"
      ],
      "metadata": {
        "id": "EUx4HW7enGK7"
      },
      "execution_count": 11,
      "outputs": []
    },
    {
      "cell_type": "code",
      "execution_count": 13,
      "metadata": {
        "colab": {
          "base_uri": "https://localhost:8080/",
          "height": 918
        },
        "id": "onPuGmwC6a7W",
        "outputId": "51627ba1-9c55-4017-d4a8-55826869e58f",
        "collapsed": true
      },
      "outputs": [
        {
          "output_type": "stream",
          "name": "stderr",
          "text": [
            "<ipython-input-13-6476dca205a6>:26: DeprecationWarning: Callback API version 1 is deprecated, update to latest version\n",
            "  client = mqtt.Client()\n"
          ]
        },
        {
          "output_type": "stream",
          "name": "stdout",
          "text": [
            "Connected to broker\n",
            "Received heartbeat: 112\n",
            "Heartbeat is normal\n",
            "Received heartbeat: 114\n",
            "Heartbeat is normal\n",
            "Received heartbeat: 84\n",
            "Heartbeat is abnormal\n",
            "Received heartbeat: 116\n",
            "Heartbeat is normal\n",
            "Received heartbeat: 85\n",
            "Heartbeat is abnormal\n",
            "Received heartbeat: 122\n",
            "Heartbeat is normal\n",
            "Received heartbeat: 126\n",
            "Heartbeat is normal\n",
            "Received heartbeat: 120\n",
            "Heartbeat is normal\n",
            "Received heartbeat: 75\n",
            "Heartbeat is abnormal\n",
            "Received heartbeat: 120\n",
            "Heartbeat is normal\n",
            "Received heartbeat: 75\n",
            "Heartbeat is abnormal\n",
            "Received heartbeat: 66\n",
            "Heartbeat is abnormal\n",
            "Received heartbeat: 116\n",
            "Heartbeat is normal\n",
            "Received heartbeat: 104\n",
            "Heartbeat is normal\n",
            "Received heartbeat: 70\n",
            "Heartbeat is abnormal\n"
          ]
        },
        {
          "output_type": "error",
          "ename": "KeyboardInterrupt",
          "evalue": "",
          "traceback": [
            "\u001b[0;31m---------------------------------------------------------------------------\u001b[0m",
            "\u001b[0;31mKeyboardInterrupt\u001b[0m                         Traceback (most recent call last)",
            "\u001b[0;32m<ipython-input-13-6476dca205a6>\u001b[0m in \u001b[0;36m<cell line: 32>\u001b[0;34m()\u001b[0m\n\u001b[1;32m     30\u001b[0m \u001b[0;34m\u001b[0m\u001b[0m\n\u001b[1;32m     31\u001b[0m \u001b[0mclient\u001b[0m\u001b[0;34m.\u001b[0m\u001b[0mconnect\u001b[0m\u001b[0;34m(\u001b[0m\u001b[0mbroker_address\u001b[0m\u001b[0;34m,\u001b[0m \u001b[0mport\u001b[0m\u001b[0;34m)\u001b[0m\u001b[0;34m\u001b[0m\u001b[0;34m\u001b[0m\u001b[0m\n\u001b[0;32m---> 32\u001b[0;31m \u001b[0mclient\u001b[0m\u001b[0;34m.\u001b[0m\u001b[0mloop_forever\u001b[0m\u001b[0;34m(\u001b[0m\u001b[0;34m)\u001b[0m\u001b[0;34m\u001b[0m\u001b[0;34m\u001b[0m\u001b[0m\n\u001b[0m",
            "\u001b[0;32m/usr/local/lib/python3.10/dist-packages/paho/mqtt/client.py\u001b[0m in \u001b[0;36mloop_forever\u001b[0;34m(self, timeout, retry_first_connection)\u001b[0m\n\u001b[1;32m   2295\u001b[0m             \u001b[0mrc\u001b[0m \u001b[0;34m=\u001b[0m \u001b[0mMQTTErrorCode\u001b[0m\u001b[0;34m.\u001b[0m\u001b[0mMQTT_ERR_SUCCESS\u001b[0m\u001b[0;34m\u001b[0m\u001b[0;34m\u001b[0m\u001b[0m\n\u001b[1;32m   2296\u001b[0m             \u001b[0;32mwhile\u001b[0m \u001b[0mrc\u001b[0m \u001b[0;34m==\u001b[0m \u001b[0mMQTTErrorCode\u001b[0m\u001b[0;34m.\u001b[0m\u001b[0mMQTT_ERR_SUCCESS\u001b[0m\u001b[0;34m:\u001b[0m\u001b[0;34m\u001b[0m\u001b[0;34m\u001b[0m\u001b[0m\n\u001b[0;32m-> 2297\u001b[0;31m                 \u001b[0mrc\u001b[0m \u001b[0;34m=\u001b[0m \u001b[0mself\u001b[0m\u001b[0;34m.\u001b[0m\u001b[0m_loop\u001b[0m\u001b[0;34m(\u001b[0m\u001b[0mtimeout\u001b[0m\u001b[0;34m)\u001b[0m\u001b[0;34m\u001b[0m\u001b[0;34m\u001b[0m\u001b[0m\n\u001b[0m\u001b[1;32m   2298\u001b[0m                 \u001b[0;31m# We don't need to worry about locking here, because we've\u001b[0m\u001b[0;34m\u001b[0m\u001b[0;34m\u001b[0m\u001b[0m\n\u001b[1;32m   2299\u001b[0m                 \u001b[0;31m# either called loop_forever() when in single threaded mode, or\u001b[0m\u001b[0;34m\u001b[0m\u001b[0;34m\u001b[0m\u001b[0m\n",
            "\u001b[0;32m/usr/local/lib/python3.10/dist-packages/paho/mqtt/client.py\u001b[0m in \u001b[0;36m_loop\u001b[0;34m(self, timeout)\u001b[0m\n\u001b[1;32m   1661\u001b[0m \u001b[0;34m\u001b[0m\u001b[0m\n\u001b[1;32m   1662\u001b[0m         \u001b[0;32mtry\u001b[0m\u001b[0;34m:\u001b[0m\u001b[0;34m\u001b[0m\u001b[0;34m\u001b[0m\u001b[0m\n\u001b[0;32m-> 1663\u001b[0;31m             \u001b[0msocklist\u001b[0m \u001b[0;34m=\u001b[0m \u001b[0mselect\u001b[0m\u001b[0;34m.\u001b[0m\u001b[0mselect\u001b[0m\u001b[0;34m(\u001b[0m\u001b[0mrlist\u001b[0m\u001b[0;34m,\u001b[0m \u001b[0mwlist\u001b[0m\u001b[0;34m,\u001b[0m \u001b[0;34m[\u001b[0m\u001b[0;34m]\u001b[0m\u001b[0;34m,\u001b[0m \u001b[0mtimeout\u001b[0m\u001b[0;34m)\u001b[0m\u001b[0;34m\u001b[0m\u001b[0;34m\u001b[0m\u001b[0m\n\u001b[0m\u001b[1;32m   1664\u001b[0m         \u001b[0;32mexcept\u001b[0m \u001b[0mTypeError\u001b[0m\u001b[0;34m:\u001b[0m\u001b[0;34m\u001b[0m\u001b[0;34m\u001b[0m\u001b[0m\n\u001b[1;32m   1665\u001b[0m             \u001b[0;31m# Socket isn't correct type, in likelihood connection is lost\u001b[0m\u001b[0;34m\u001b[0m\u001b[0;34m\u001b[0m\u001b[0m\n",
            "\u001b[0;31mKeyboardInterrupt\u001b[0m: "
          ]
        }
      ],
      "source": [
        "import paho.mqtt.client as mqtt\n",
        "\n",
        "broker_address = \"broker.emqx.io\"\n",
        "port = 1883\n",
        "topic = \"patient/heartbeat\"\n",
        "# username = \"test\"\n",
        "# password = \"1\"\n",
        "\n",
        "def on_connect(client, userdata, flags, rc):\n",
        "    if rc == 0:\n",
        "        print(\"Connected to broker\")\n",
        "        client.subscribe(topic)\n",
        "    else:\n",
        "        print(\"Connection failed with code\", rc)\n",
        "\n",
        "def on_message(client, userdata, message):\n",
        "    heartbeat = int(message.payload.decode(\"utf-8\"))\n",
        "    print(f\"Received heartbeat: {heartbeat}\")\n",
        "        # 预测心跳状态\n",
        "    prediction = model.predict([[heartbeat]])\n",
        "    if prediction == 0:\n",
        "        print(\"Heartbeat is normal\")\n",
        "    else:\n",
        "        print(\"Heartbeat is abnormal\")\n",
        "\n",
        "client = mqtt.Client()\n",
        "# client.username_pw_set(username, password)\n",
        "client.on_connect = on_connect\n",
        "client.on_message = on_message\n",
        "\n",
        "client.connect(broker_address, port)\n",
        "client.loop_forever()\n"
      ]
    }
  ]
}