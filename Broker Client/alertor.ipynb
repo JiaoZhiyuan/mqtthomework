{
  "nbformat": 4,
  "nbformat_minor": 0,
  "metadata": {
    "colab": {
      "provenance": []
    },
    "kernelspec": {
      "name": "python3",
      "display_name": "Python 3"
    },
    "language_info": {
      "name": "python"
    }
  },
  "cells": [
    {
      "cell_type": "code",
      "source": [
        "!pip install paho-mqtt\n",
        "!pip install wfdb"
      ],
      "metadata": {
        "id": "EUx4HW7enGK7",
        "colab": {
          "base_uri": "https://localhost:8080/"
        },
        "outputId": "c5d1714d-6a15-44d6-d78f-e985165e44ce"
      },
      "execution_count": 1,
      "outputs": [
        {
          "output_type": "stream",
          "name": "stdout",
          "text": [
            "Collecting paho-mqtt\n",
            "  Downloading paho_mqtt-2.1.0-py3-none-any.whl (67 kB)\n",
            "\u001b[2K     \u001b[90m━━━━━━━━━━━━━━━━━━━━━━━━━━━━━━━━━━━━━━━━\u001b[0m \u001b[32m67.2/67.2 kB\u001b[0m \u001b[31m639.4 kB/s\u001b[0m eta \u001b[36m0:00:00\u001b[0m\n",
            "\u001b[?25hInstalling collected packages: paho-mqtt\n",
            "Successfully installed paho-mqtt-2.1.0\n"
          ]
        }
      ]
    },
    {
      "cell_type": "code",
      "source": [
        "import wfdb\n",
        "import numpy as np\n",
        "from sklearn import svm\n",
        "from sklearn.model_selection import train_test_split\n",
        "from sklearn.metrics import classification_report, accuracy_score\n",
        "import paho.mqtt.client as mqtt\n",
        "import time\n",
        "from collections import deque"
      ],
      "metadata": {
        "id": "02dsRmZAEUJ3"
      },
      "execution_count": 8,
      "outputs": []
    },
    {
      "cell_type": "code",
      "source": [
        "if os.path.isdir(\"mitdb\"):\n",
        "    print('You already have the data.')\n",
        "else:\n",
        "    wfdb.dl_database('mitdb', 'mitdb')\n",
        ""
      ],
      "metadata": {
        "colab": {
          "base_uri": "https://localhost:8080/"
        },
        "collapsed": true,
        "id": "n2xIxOg_ESRi",
        "outputId": "baaff70d-08ff-458c-ae4c-485f170bf7fd"
      },
      "execution_count": 18,
      "outputs": [
        {
          "output_type": "stream",
          "name": "stdout",
          "text": [
            "You already have the data.\n"
          ]
        }
      ]
    },
    {
      "cell_type": "code",
      "source": [
        "def load_data(record_name):\n",
        "    try:\n",
        "        print(f\"Loading record: {record_name}\")\n",
        "        record = wfdb.rdrecord(record_name, sampto=300000)\n",
        "        annotation = wfdb.rdann(record_name, 'atr', sampto=300000)\n",
        "\n",
        "        # 获取心电信号和注释\n",
        "        ecg_signal = record.p_signal[:, 0]\n",
        "        annotations = annotation.sample\n",
        "\n",
        "        print(f\"ECG signal length: {len(ecg_signal)}\")\n",
        "        print(f\"Number of annotations: {len(annotations)}\")\n",
        "\n",
        "        # 将心电信号分成每分钟的段落，并计算每分钟心跳数\n",
        "        fs = record.fs  # 采样频率\n",
        "        samples_per_minute = int(fs * 60)\n",
        "        num_minutes = len(ecg_signal) // samples_per_minute\n",
        "\n",
        "        heartbeat_counts = []\n",
        "\n",
        "        for i in range(num_minutes):\n",
        "            start = i * samples_per_minute\n",
        "            end = (i + 1) * samples_per_minute\n",
        "            segment_annotations = annotations[(annotations >= start) & (annotations < end)]\n",
        "            heartbeat_counts.append(len(segment_annotations))\n",
        "\n",
        "        print(f\"Heartbeat counts: {heartbeat_counts}\")\n",
        "\n",
        "        return np.array(heartbeat_counts).reshape(-1, 1)\n",
        "    except Exception as e:\n",
        "        print(f\"Error loading data: {e}\")\n",
        "        return np.array([]).reshape(-1, 1)\n"
      ],
      "metadata": {
        "id": "J9F0JOfJLX1y"
      },
      "execution_count": 44,
      "outputs": []
    },
    {
      "cell_type": "code",
      "source": [
        "# 加载数据\n",
        "data = load_data(\"mitdb/100\")\n",
        "\n",
        "# 检查数据是否为空\n",
        "if data.size == 0:\n",
        "    print(\"No data loaded. Please check the record name and path.\")\n",
        "else:\n",
        "\n",
        "\n",
        "    # 假设正常心跳在60到100次之间\n",
        "    labels = np.where((data >=70) & (data <= 75), 0, 1)  # 0: 正常, 1: 异常\n",
        "\n",
        "    # 检查样本数量是否足够进行训练和测试集划分\n",
        "    if len(data) < 10:  # 这里假设至少需要10个样本\n",
        "        print(\"Not enough data to split into training and testing sets.\")\n",
        "    else:\n",
        "        # 划分数据集 60%训练, 40%测试\n",
        "        X_train, X_test, y_train, y_test = train_test_split(data, labels, test_size=0.4, random_state=42)\n",
        "\n",
        "        model = train_svm(X_train, y_train)\n",
        "\n",
        "        # 评估模型\n",
        "        y_pred = model.predict(X_test)\n",
        "        print(f\"Accuracy: {accuracy_score(y_test, y_pred)}\")\n",
        "        print(classification_report(y_test, y_pred))\n"
      ],
      "metadata": {
        "colab": {
          "base_uri": "https://localhost:8080/"
        },
        "id": "_4NQ_S8LLZhT",
        "outputId": "0b62287e-4d23-4f6e-d63c-487655921a9d"
      },
      "execution_count": 52,
      "outputs": [
        {
          "output_type": "stream",
          "name": "stdout",
          "text": [
            "Accuracy: 0.6666666666666666\n",
            "              precision    recall  f1-score   support\n",
            "\n",
            "           0       0.00      0.00      0.00         2\n",
            "           1       0.67      1.00      0.80         4\n",
            "\n",
            "    accuracy                           0.67         6\n",
            "   macro avg       0.33      0.50      0.40         6\n",
            "weighted avg       0.44      0.67      0.53         6\n",
            "\n"
          ]
        },
        {
          "output_type": "stream",
          "name": "stderr",
          "text": [
            "/usr/local/lib/python3.10/dist-packages/sklearn/utils/validation.py:1143: DataConversionWarning: A column-vector y was passed when a 1d array was expected. Please change the shape of y to (n_samples, ), for example using ravel().\n",
            "  y = column_or_1d(y, warn=True)\n",
            "/usr/local/lib/python3.10/dist-packages/sklearn/metrics/_classification.py:1344: UndefinedMetricWarning: Precision and F-score are ill-defined and being set to 0.0 in labels with no predicted samples. Use `zero_division` parameter to control this behavior.\n",
            "  _warn_prf(average, modifier, msg_start, len(result))\n",
            "/usr/local/lib/python3.10/dist-packages/sklearn/metrics/_classification.py:1344: UndefinedMetricWarning: Precision and F-score are ill-defined and being set to 0.0 in labels with no predicted samples. Use `zero_division` parameter to control this behavior.\n",
            "  _warn_prf(average, modifier, msg_start, len(result))\n",
            "/usr/local/lib/python3.10/dist-packages/sklearn/metrics/_classification.py:1344: UndefinedMetricWarning: Precision and F-score are ill-defined and being set to 0.0 in labels with no predicted samples. Use `zero_division` parameter to control this behavior.\n",
            "  _warn_prf(average, modifier, msg_start, len(result))\n"
          ]
        }
      ]
    },
    {
      "cell_type": "code",
      "source": [
        "broker1_address = \"broker.emqx.io\"\n",
        "broker2_address = \"test.mosquitto.org\"\n",
        "port = 1883\n",
        "topic = \"patient/+/heartbeat\"  # 使用通配符来订阅多个主题\n",
        "\n",
        "# 定义桥接模式: \"in\", \"out\", \"both\"\n",
        "bridge_mode = \"in\"\n",
        "\n",
        "class BridgeMQTTClient(mqtt.Client):\n",
        "    def __init__(self, cname, **kwargs):\n",
        "        super(BridgeMQTTClient, self).__init__(**kwargs)\n",
        "        self.cname = cname\n",
        "        self.on_connect = self.on_connect_callback\n",
        "        self.on_message = self.on_message_callback\n",
        "        self.processed_messages = deque(maxlen=100)\n",
        "\n",
        "    def on_connect_callback(self, client, userdata, flags, rc):\n",
        "        if rc == 0:\n",
        "            print(f\"{self.cname} connected to broker\")\n",
        "            if (self.cname == \"bridge_c1\" and bridge_mode in [\"in\", \"both\"]) or \\\n",
        "               (self.cname == \"bridge_c2\" and bridge_mode in [\"out\", \"both\"]):\n",
        "                self.subscribe(topic)\n",
        "        else:\n",
        "            print(f\"Connection failed with code {rc} for {self.cname}\")\n",
        "\n",
        "    def on_message_callback(self, client, userdata, msg):\n",
        "        m_decode = str(msg.payload.decode(\"utf-8\"))\n",
        "\n",
        "        # 处理并发布消息\n",
        "        print(f\"Received message from {self.cname}: {m_decode}\")\n",
        "        heartbeat = int(m_decode)\n",
        "        prediction = model.predict([[heartbeat]])\n",
        "        if prediction == 0:\n",
        "            print(f\"Heartbeat from {msg.topic} is normal\")\n",
        "        else:\n",
        "            print(f\"Heartbeat from {msg.topic} is abnormal\")\n",
        "\n",
        "        if self.cname == \"bridge_c1\" and bridge_mode in [\"in\", \"both\"]:\n",
        "            bridge_client2.publish(msg.topic, m_decode)  # 保持原主题\n",
        "            print(f\"Forwarded message to broker2: {m_decode}\")\n",
        "\n",
        "        elif self.cname == \"bridge_c2\" and bridge_mode in [\"out\", \"both\"]:\n",
        "            bridge_client1.publish(msg.topic, m_decode)  # 保持原主题\n",
        "            print(f\"Forwarded message to broker1: {m_decode}\")\n",
        "\n",
        "# 初始化第一个客户端，订阅并转发消息\n",
        "bridge_client1 = BridgeMQTTClient(cname=\"bridge_c1\")\n",
        "bridge_client1.connect(broker1_address, port)\n",
        "bridge_client1.loop_start()\n",
        "\n",
        "# 初始化第二个客户端，接收转发的消息\n",
        "bridge_client2 = BridgeMQTTClient(cname=\"bridge_c2\")\n",
        "bridge_client2.connect(broker2_address, port)\n",
        "bridge_client2.loop_start()\n",
        "\n",
        "# 保持主线程运行\n",
        "try:\n",
        "    while True:\n",
        "        time.sleep(4)\n",
        "except KeyboardInterrupt:\n",
        "    pass\n",
        "finally:\n",
        "    print('now stop')\n",
        "    bridge_client1.loop_stop()\n",
        "    bridge_client2.loop_stop()\n",
        "    bridge_client1.disconnect()\n",
        "    bridge_client2.disconnect()"
      ],
      "metadata": {
        "colab": {
          "base_uri": "https://localhost:8080/"
        },
        "id": "sl4S60hzOZ_V",
        "outputId": "2d626ca3-b8bc-4c90-f475-b5f9fbf2cbea"
      },
      "execution_count": 53,
      "outputs": [
        {
          "output_type": "stream",
          "name": "stderr",
          "text": [
            "<ipython-input-53-4c78830a4350>:11: DeprecationWarning: Callback API version 1 is deprecated, update to latest version\n",
            "  super(BridgeMQTTClient, self).__init__(**kwargs)\n"
          ]
        },
        {
          "output_type": "stream",
          "name": "stdout",
          "text": [
            "bridge_c1 connected to broker\n",
            "bridge_c2 connected to broker\n",
            "Received message from bridge_c1: 78\n",
            "Heartbeat from patient/num1/heartbeat is abnormal\n",
            "Forwarded message to broker2: 78\n",
            "Received message from bridge_c1: 76\n",
            "Heartbeat from patient/num3/heartbeat is abnormal\n",
            "Forwarded message to broker2: 76\n",
            "Received message from bridge_c1: 83\n",
            "Heartbeat from patient/num2/heartbeat is abnormal\n",
            "Forwarded message to broker2: 83\n",
            "Received message from bridge_c1: 67\n",
            "Heartbeat from patient/num1/heartbeat is normal\n",
            "Forwarded message to broker2: 67\n",
            "Received message from bridge_c1: 84\n",
            "Heartbeat from patient/num3/heartbeat is abnormal\n",
            "Forwarded message to broker2: 84\n",
            "Received message from bridge_c1: 98\n",
            "Heartbeat from patient/num2/heartbeat is abnormal\n",
            "Forwarded message to broker2: 98\n",
            "Received message from bridge_c1: 129\n",
            "Heartbeat from patient/num1/heartbeat is abnormal\n",
            "Forwarded message to broker2: 129\n",
            "Received message from bridge_c1: 94\n",
            "Heartbeat from patient/num3/heartbeat is abnormal\n",
            "Forwarded message to broker2: 94\n",
            "Received message from bridge_c1: 81\n",
            "Heartbeat from patient/num2/heartbeat is abnormal\n",
            "Forwarded message to broker2: 81\n",
            "Received message from bridge_c1: 125\n",
            "Heartbeat from patient/num1/heartbeat is abnormal\n",
            "Forwarded message to broker2: 125\n",
            "Received message from bridge_c1: 63\n",
            "Heartbeat from patient/num3/heartbeat is normal\n",
            "Forwarded message to broker2: 63\n",
            "Received message from bridge_c1: 127\n",
            "Heartbeat from patient/num2/heartbeat is abnormal\n",
            "Forwarded message to broker2: 127\n",
            "Received message from bridge_c1: 73\n",
            "Heartbeat from patient/num1/heartbeat is normal\n",
            "Forwarded message to broker2: 73\n",
            "Received message from bridge_c1: 60\n",
            "Heartbeat from patient/num3/heartbeat is normal\n",
            "Forwarded message to broker2: 60\n",
            "Received message from bridge_c1: 97\n",
            "Heartbeat from patient/num2/heartbeat is abnormal\n",
            "Forwarded message to broker2: 97\n",
            "Received message from bridge_c1: 90\n",
            "Heartbeat from patient/num1/heartbeat is abnormal\n",
            "Forwarded message to broker2: 90\n",
            "Received message from bridge_c1: 92\n",
            "Heartbeat from patient/num3/heartbeat is abnormal\n",
            "Forwarded message to broker2: 92\n",
            "Received message from bridge_c1: 128\n",
            "Heartbeat from patient/num2/heartbeat is abnormal\n",
            "Forwarded message to broker2: 128\n",
            "Received message from bridge_c1: 91\n",
            "Heartbeat from patient/num1/heartbeat is abnormal\n",
            "Forwarded message to broker2: 91\n",
            "Received message from bridge_c1: 97\n",
            "Heartbeat from patient/num3/heartbeat is abnormal\n",
            "Forwarded message to broker2: 97\n",
            "Received message from bridge_c1: 124\n",
            "Heartbeat from patient/num2/heartbeat is abnormal\n",
            "Forwarded message to broker2: 124\n",
            "Received message from bridge_c1: 103\n",
            "Heartbeat from patient/num1/heartbeat is abnormal\n",
            "Forwarded message to broker2: 103\n",
            "Received message from bridge_c1: 117\n",
            "Heartbeat from patient/num3/heartbeat is abnormal\n",
            "Forwarded message to broker2: 117\n",
            "Received message from bridge_c1: 76\n",
            "Heartbeat from patient/num2/heartbeat is abnormal\n",
            "Forwarded message to broker2: 76\n",
            "Received message from bridge_c1: 63\n",
            "Heartbeat from patient/num1/heartbeat is normal\n",
            "Forwarded message to broker2: 63\n",
            "Received message from bridge_c1: 62\n",
            "Heartbeat from patient/num2/heartbeat is normal\n",
            "Forwarded message to broker2: 62\n",
            "Received message from bridge_c1: 97\n",
            "Heartbeat from patient/num3/heartbeat is abnormal\n",
            "Forwarded message to broker2: 97\n",
            "Received message from bridge_c1: 79\n",
            "Heartbeat from patient/num1/heartbeat is abnormal\n",
            "Forwarded message to broker2: 79\n",
            "Received message from bridge_c1: 116\n",
            "Heartbeat from patient/num3/heartbeat is abnormal\n",
            "Forwarded message to broker2: 116\n",
            "Received message from bridge_c1: 84\n",
            "Heartbeat from patient/num2/heartbeat is abnormal\n",
            "Forwarded message to broker2: 84\n",
            "Received message from bridge_c1: 66\n",
            "Heartbeat from patient/num1/heartbeat is normal\n",
            "Forwarded message to broker2: 66\n",
            "Received message from bridge_c1: 102\n",
            "Heartbeat from patient/num3/heartbeat is abnormal\n",
            "Forwarded message to broker2: 102\n",
            "Received message from bridge_c1: 122\n",
            "Heartbeat from patient/num2/heartbeat is abnormal\n",
            "Forwarded message to broker2: 122\n",
            "Received message from bridge_c1: 87\n",
            "Heartbeat from patient/num1/heartbeat is abnormal\n",
            "Forwarded message to broker2: 87\n",
            "Received message from bridge_c1: 74\n",
            "Heartbeat from patient/num3/heartbeat is normal\n",
            "Forwarded message to broker2: 74\n",
            "Received message from bridge_c1: 90\n",
            "Heartbeat from patient/num2/heartbeat is abnormal\n",
            "Forwarded message to broker2: 90\n",
            "Received message from bridge_c1: 122\n",
            "Heartbeat from patient/num1/heartbeat is abnormal\n",
            "Forwarded message to broker2: 122\n",
            "Received message from bridge_c1: 82\n",
            "Heartbeat from patient/num3/heartbeat is abnormal\n",
            "Forwarded message to broker2: 82\n",
            "Received message from bridge_c1: 98\n",
            "Heartbeat from patient/num2/heartbeat is abnormal\n",
            "Forwarded message to broker2: 98\n",
            "Received message from bridge_c1: 69\n",
            "Heartbeat from patient/num1/heartbeat is normal\n",
            "Forwarded message to broker2: 69\n",
            "Received message from bridge_c1: 114\n",
            "Heartbeat from patient/num3/heartbeat is abnormal\n",
            "Forwarded message to broker2: 114\n",
            "Received message from bridge_c1: 100\n",
            "Heartbeat from patient/num2/heartbeat is abnormal\n",
            "Forwarded message to broker2: 100\n",
            "Received message from bridge_c1: 105\n",
            "Heartbeat from patient/num1/heartbeat is abnormal\n",
            "Forwarded message to broker2: 105\n",
            "Received message from bridge_c1: 90\n",
            "Heartbeat from patient/num3/heartbeat is abnormal\n",
            "Forwarded message to broker2: 90\n",
            "Received message from bridge_c1: 67\n",
            "Heartbeat from patient/num2/heartbeat is normal\n",
            "Forwarded message to broker2: 67\n",
            "now stop\n"
          ]
        }
      ]
    }
  ]
}