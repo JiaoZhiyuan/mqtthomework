{
  "nbformat": 4,
  "nbformat_minor": 0,
  "metadata": {
    "colab": {
      "provenance": []
    },
    "kernelspec": {
      "name": "python3",
      "display_name": "Python 3"
    },
    "language_info": {
      "name": "python"
    }
  },
  "cells": [
    {
      "cell_type": "code",
      "execution_count": null,
      "metadata": {
        "id": "Ij4IuqlkP1XQ"
      },
      "outputs": [],
      "source": [
        "import numpy as np\n",
        "import pandas as pd\n",
        "from scipy.io import loadmat\n",
        "from sklearn import svm\n",
        "from sklearn.model_selection import train_test_split\n",
        "from sklearn.metrics import classification_report\n",
        "\n",
        "# 假设数据已下载并解压到本地目录\n",
        "# 读取MIT-BIH Arrhythmia Database中的一个记录\n",
        "record = loadmat('path_to_record.mat')\n",
        "ecg_signal = record['val'][0]  # 假设心电图信号在‘val’字段中\n",
        "\n",
        "# 定义每分钟的样本数\n",
        "samples_per_minute = 360 * 60  # 360 Hz, 60 seconds\n",
        "\n",
        "# 提取每分钟心跳数\n",
        "minutes = len(ecg_signal) // samples_per_minute\n",
        "heartbeat_counts = []\n",
        "\n",
        "for i in range(minutes):\n",
        "    segment = ecg_signal[i * samples_per_minute: (i + 1) * samples_per_minute]\n",
        "    # 检测心跳（使用简单峰值检测，或使用更复杂的R峰检测算法）\n",
        "    peaks = detect_peaks(segment)  # 你需要实现或调用一个检测心跳峰值的函数\n",
        "    heartbeat_counts.append(len(peaks))\n",
        "\n",
        "# 创建DataFrame\n",
        "df = pd.DataFrame({'minute': np.arange(minutes), 'heartbeat_count': heartbeat_counts})\n",
        "\n",
        "# 标注心率是否正常\n",
        "df['label'] = df['heartbeat_count'].apply(lambda x: 1 if 60 <= x <= 100 else 0)\n",
        "\n",
        "# 划分训练集和测试集\n",
        "X = df[['heartbeat_count']]\n",
        "y = df['label']\n",
        "X_train, X_test, y_train, y_test = train_test_split(X, y, test_size=0.2, random_state=42)\n",
        "\n",
        "# 训练SVM模型\n",
        "model = svm.SVC(kernel='linear')\n",
        "model.fit(X_train, y_train)\n",
        "\n",
        "# 预测和评估\n",
        "y_pred = model.predict(X_test)\n",
        "print(classification_report(y_test, y_pred))\n",
        "\n",
        "# 函数：检测峰值（简单实现，仅作示例）\n",
        "def detect_peaks(ecg_segment):\n",
        "    # 你需要实现一个峰值检测算法，例如基于导数或阈值的方法\n",
        "    return []  # 返回检测到的峰值索引列表\n",
        "\n"
      ]
    },
    {
      "cell_type": "code",
      "source": [
        "import wfdb\n",
        "\n",
        "# 读取记录\n",
        "record = wfdb.rdrecord('path_to_record')\n",
        "annotation = wfdb.rdann('path_to_record', 'atr')\n",
        "\n",
        "# 获取信号和注释\n",
        "ecg_signal = record.p_signal[:,0]\n",
        "annotations = annotation.sample\n"
      ],
      "metadata": {
        "id": "SR3I2hQCP3TZ"
      },
      "execution_count": null,
      "outputs": []
    }
  ]
}