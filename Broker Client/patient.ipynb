{
  "cells": [
    {
      "cell_type": "code",
      "execution_count": null,
      "metadata": {
        "collapsed": true,
        "id": "LJzUOZ7s7_7n"
      },
      "outputs": [],
      "source": [
        "!pip install \"paho-mqtt<2.0.0\""
      ]
    },
    {
      "cell_type": "code",
      "execution_count": null,
      "metadata": {
        "collapsed": true,
        "id": "yWwtJZ8j6YgF"
      },
      "outputs": [],
      "source": [
        "#本机测试成功，coalb第一次运行没问题，从第二次运行开始出现反复多次连接broker\n",
        "import paho.mqtt.client as mqtt\n",
        "import random\n",
        "import time\n",
        "import threading\n",
        "\n",
        "broker_address = \"broker.emqx.io\"\n",
        "port = 1883\n",
        "username = \"test\"\n",
        "password = \"1\"\n",
        "\n",
        "# 全局字典用于跟踪每个客户端的连接状态\n",
        "client_connections = {}\n",
        "\n",
        "# 定义发布心跳数据的函数\n",
        "def publish_heartbeat(client_name, topic):\n",
        "    client_connected = threading.Event()\n",
        "\n",
        "    def on_connect(client, userdata, flags, rc):\n",
        "        if rc == 0:\n",
        "            print(f\"{client_name} connected to broker\")\n",
        "            client_connections[client_name] = True  # 更新连接状态\n",
        "            client_connected.set()  # 设置标志表示已连接\n",
        "        else:\n",
        "            print(f\"{client_name} connection failed with code {rc}\")\n",
        "\n",
        "    def on_disconnect(client, userdata, rc):\n",
        "        print(f\"{client_name} disconnected from broker with code {rc}\")\n",
        "        client_connections[client_name] = False  # 更新连接状态\n",
        "        client_connected.clear()  # 清除标志表示已断开连接\n",
        "\n",
        "    if client_connections.get(client_name):\n",
        "        print(f\"{client_name} already connected, skipping...\")\n",
        "        return\n",
        "\n",
        "    client = mqtt.Client(client_id=f\"{client_name}_{int(time.time())}\")\n",
        "    client.username_pw_set(username, password)\n",
        "    client.on_connect = on_connect\n",
        "    client.on_disconnect = on_disconnect\n",
        "\n",
        "    client.connect(broker_address, port)\n",
        "    client.loop_start()\n",
        "\n",
        "    # 等待客户端连接成功\n",
        "    if not client_connected.wait(timeout=10):\n",
        "        print(f\"{client_name} failed to connect within timeout\")\n",
        "        return\n",
        "\n",
        "    while True:\n",
        "        heartbeat = random.randint(60, 130)\n",
        "        client.publish(topic, heartbeat)\n",
        "        print(f\"{client_name} sent heartbeat: {heartbeat}\")\n",
        "        time.sleep(5)\n",
        "\n",
        "# 创建多个线程，每个线程负责一个客户端\n",
        "threads = []\n",
        "\n",
        "client_info = [\n",
        "    {\"client_name\": \"client1\", \"topic\": \"patient/num1/heartbeat\"},\n",
        "    {\"client_name\": \"client2\", \"topic\": \"patient/num2/heartbeat\"},\n",
        "    {\"client_name\": \"client3\", \"topic\": \"patient/num3/heartbeat\"},\n",
        "]\n",
        "\n",
        "# 初始化连接状态\n",
        "for info in client_info:\n",
        "    client_connections[info[\"client_name\"]] = False\n",
        "\n",
        "for info in client_info:\n",
        "    thread = threading.Thread(target=publish_heartbeat, args=(info[\"client_name\"], info[\"topic\"]))\n",
        "    threads.append(thread)\n",
        "    thread.start()\n",
        "\n",
        "# 保持主线程运行\n",
        "try:\n",
        "    for thread in threads:\n",
        "        thread.join()\n",
        "except KeyboardInterrupt:\n",
        "    print(\"Stopping all clients...\")\n",
        "    for info in client_info:\n",
        "        client = mqtt.Client(client_id=f\"{info['client_name']}_{int(time.time())}\")\n",
        "        client.disconnect()\n",
        "    print(\"All clients stopped.\")\n"
      ]
    }
  ],
  "metadata": {
    "colab": {
      "provenance": []
    },
    "kernelspec": {
      "display_name": "Python 3",
      "name": "python3"
    },
    "language_info": {
      "name": "python"
    }
  },
  "nbformat": 4,
  "nbformat_minor": 0
}