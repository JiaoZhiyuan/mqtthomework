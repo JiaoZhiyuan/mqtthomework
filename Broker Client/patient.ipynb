{
  "nbformat": 4,
  "nbformat_minor": 0,
  "metadata": {
    "colab": {
      "provenance": []
    },
    "kernelspec": {
      "name": "python3",
      "display_name": "Python 3"
    },
    "language_info": {
      "name": "python"
    }
  },
  "cells": [
    {
      "cell_type": "code",
      "source": [
        "!pip install paho-mqtt"
      ],
      "metadata": {
        "colab": {
          "base_uri": "https://localhost:8080/"
        },
        "id": "LJzUOZ7s7_7n",
        "outputId": "4eb5b356-b2e6-4df7-b3f7-0d6be87b93e9",
        "collapsed": true
      },
      "execution_count": 1,
      "outputs": [
        {
          "output_type": "stream",
          "name": "stdout",
          "text": [
            "Collecting paho-mqtt\n",
            "  Downloading paho_mqtt-2.1.0-py3-none-any.whl (67 kB)\n",
            "\u001b[2K     \u001b[90m━━━━━━━━━━━━━━━━━━━━━━━━━━━━━━━━━━━━━━━━\u001b[0m \u001b[32m67.2/67.2 kB\u001b[0m \u001b[31m1.5 MB/s\u001b[0m eta \u001b[36m0:00:00\u001b[0m\n",
            "\u001b[?25hInstalling collected packages: paho-mqtt\n",
            "Successfully installed paho-mqtt-2.1.0\n"
          ]
        }
      ]
    },
    {
      "cell_type": "code",
      "execution_count": 14,
      "metadata": {
        "colab": {
          "base_uri": "https://localhost:8080/",
          "height": 769
        },
        "collapsed": true,
        "id": "yWwtJZ8j6YgF",
        "outputId": "402ffd02-c244-4456-d0c3-ab06f719404c"
      },
      "outputs": [
        {
          "output_type": "stream",
          "name": "stderr",
          "text": [
            "<ipython-input-14-ed53d1440e69>:24: DeprecationWarning: Callback API version 1 is deprecated, update to latest version\n",
            "  client = mqtt.Client()\n"
          ]
        },
        {
          "output_type": "stream",
          "name": "stdout",
          "text": [
            "Sent heartbeat: 97\n",
            "Connected to broker\n",
            "Sent heartbeat: 65\n",
            "Sent heartbeat: 114\n",
            "Sent heartbeat: 109\n",
            "Sent heartbeat: 115\n",
            "Sent heartbeat: 112\n",
            "Sent heartbeat: 114\n",
            "Sent heartbeat: 84\n",
            "Sent heartbeat: 116\n",
            "Sent heartbeat: 85\n",
            "Sent heartbeat: 122\n",
            "Sent heartbeat: 126\n",
            "Sent heartbeat: 120\n",
            "Sent heartbeat: 75\n",
            "Sent heartbeat: 120\n",
            "Sent heartbeat: 75\n",
            "Sent heartbeat: 66\n",
            "Sent heartbeat: 116\n",
            "Sent heartbeat: 104\n",
            "Sent heartbeat: 70\n",
            "Sent heartbeat: 106\n",
            "Sent heartbeat: 60\n",
            "Sent heartbeat: 112\n"
          ]
        },
        {
          "output_type": "error",
          "ename": "KeyboardInterrupt",
          "evalue": "",
          "traceback": [
            "\u001b[0;31m---------------------------------------------------------------------------\u001b[0m",
            "\u001b[0;31mKeyboardInterrupt\u001b[0m                         Traceback (most recent call last)",
            "\u001b[0;32m<ipython-input-14-ed53d1440e69>\u001b[0m in \u001b[0;36m<cell line: 31>\u001b[0;34m()\u001b[0m\n\u001b[1;32m     29\u001b[0m \u001b[0mclient\u001b[0m\u001b[0;34m.\u001b[0m\u001b[0mloop_start\u001b[0m\u001b[0;34m(\u001b[0m\u001b[0;34m)\u001b[0m\u001b[0;34m\u001b[0m\u001b[0;34m\u001b[0m\u001b[0m\n\u001b[1;32m     30\u001b[0m \u001b[0;34m\u001b[0m\u001b[0m\n\u001b[0;32m---> 31\u001b[0;31m \u001b[0mpublish_heartbeat\u001b[0m\u001b[0;34m(\u001b[0m\u001b[0mclient\u001b[0m\u001b[0;34m)\u001b[0m\u001b[0;34m\u001b[0m\u001b[0;34m\u001b[0m\u001b[0m\n\u001b[0m",
            "\u001b[0;32m<ipython-input-14-ed53d1440e69>\u001b[0m in \u001b[0;36mpublish_heartbeat\u001b[0;34m(client)\u001b[0m\n\u001b[1;32m     20\u001b[0m         \u001b[0mclient\u001b[0m\u001b[0;34m.\u001b[0m\u001b[0mpublish\u001b[0m\u001b[0;34m(\u001b[0m\u001b[0mtopic\u001b[0m\u001b[0;34m,\u001b[0m \u001b[0mheartbeat\u001b[0m\u001b[0;34m)\u001b[0m\u001b[0;34m\u001b[0m\u001b[0;34m\u001b[0m\u001b[0m\n\u001b[1;32m     21\u001b[0m         \u001b[0mprint\u001b[0m\u001b[0;34m(\u001b[0m\u001b[0;34mf\"Sent heartbeat: {heartbeat}\"\u001b[0m\u001b[0;34m)\u001b[0m\u001b[0;34m\u001b[0m\u001b[0;34m\u001b[0m\u001b[0m\n\u001b[0;32m---> 22\u001b[0;31m         \u001b[0mtime\u001b[0m\u001b[0;34m.\u001b[0m\u001b[0msleep\u001b[0m\u001b[0;34m(\u001b[0m\u001b[0;36m1\u001b[0m\u001b[0;34m)\u001b[0m\u001b[0;34m\u001b[0m\u001b[0;34m\u001b[0m\u001b[0m\n\u001b[0m\u001b[1;32m     23\u001b[0m \u001b[0;34m\u001b[0m\u001b[0m\n\u001b[1;32m     24\u001b[0m \u001b[0mclient\u001b[0m \u001b[0;34m=\u001b[0m \u001b[0mmqtt\u001b[0m\u001b[0;34m.\u001b[0m\u001b[0mClient\u001b[0m\u001b[0;34m(\u001b[0m\u001b[0;34m)\u001b[0m\u001b[0;34m\u001b[0m\u001b[0;34m\u001b[0m\u001b[0m\n",
            "\u001b[0;31mKeyboardInterrupt\u001b[0m: "
          ]
        }
      ],
      "source": [
        "import paho.mqtt.client as mqtt\n",
        "import random\n",
        "import time\n",
        "\n",
        "broker_address = \"broker.emqx.io\"\n",
        "port = 1883\n",
        "topic = \"patient/heartbeat\"\n",
        "# username = \"test\"\n",
        "# password = \"1\"\n",
        "\n",
        "def on_connect(client, userdata, flags, rc):\n",
        "    if rc == 0:\n",
        "        print(\"Connected to broker\")\n",
        "    else:\n",
        "        print(\"Connection failed with code\", rc)\n",
        "\n",
        "def publish_heartbeat(client):\n",
        "      while True:\n",
        "        heartbeat = random.randint(60, 130)\n",
        "        client.publish(topic, heartbeat)\n",
        "        print(f\"Sent heartbeat: {heartbeat}\")\n",
        "        time.sleep(1)\n",
        "\n",
        "client = mqtt.Client()\n",
        "# client.username_pw_set(username, password)\n",
        "client.on_connect = on_connect\n",
        "\n",
        "client.connect(broker_address, port)\n",
        "client.loop_start()\n",
        "\n",
        "publish_heartbeat(client)\n"
      ]
    }
  ]
}