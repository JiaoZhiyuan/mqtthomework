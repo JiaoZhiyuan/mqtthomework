{
  "cells": [
    {
      "cell_type": "code",
      "execution_count": null,
      "metadata": {
        "collapsed": true,
        "id": "LJzUOZ7s7_7n"
      },
      "outputs": [],
      "source": [
        "!pip install \"paho-mqtt<2.0.0\""
      ]
    },
    {
      "cell_type": "code",
      "execution_count": null,
      "metadata": {
        "collapsed": true,
        "id": "yWwtJZ8j6YgF"
      },
      "outputs": [],
      "source": [
        "import paho.mqtt.client as mqtt\n",
        "import random\n",
        "import time\n",
        "import threading\n",
        "\n",
        "broker_address = \"broker.emqx.io\"\n",
        "port = 1883\n",
        "username = \"test\"\n",
        "password = \"1\"\n",
        "\n",
        "# 定义发布心跳数据的函数\n",
        "def publish_heartbeat(client_name, topic):\n",
        "    def on_connect(client, userdata, flags, rc):\n",
        "        if rc == 0:\n",
        "            print(f\"{client_name} connected to broker\")\n",
        "        else:\n",
        "            print(f\"{client_name} connection failed with code {rc}\")\n",
        "\n",
        "    client = mqtt.Client(client_name)\n",
        "    client.username_pw_set(username, password)\n",
        "    client.on_connect = on_connect\n",
        "\n",
        "    client.connect(broker_address, port)\n",
        "    client.loop_forever()\n",
        "\n",
        "    while True:\n",
        "        heartbeat = random.randint(60, 130)\n",
        "        client.publish(topic, heartbeat)\n",
        "        print(f\"{client_name} sent heartbeat: {heartbeat}\")\n",
        "        time.sleep(5)\n",
        "\n",
        "# 创建多个线程，每个线程负责一个客户端\n",
        "threads = []\n",
        "\n",
        "client_info = [\n",
        "    {\"client_name\": \"client1\", \"topic\": \"patient/num1/heartbeat\"},\n",
        "    {\"client_name\": \"client2\", \"topic\": \"patient/num2/heartbeat\"},\n",
        "    {\"client_name\": \"client3\", \"topic\": \"patient/num3/heartbeat\"},\n",
        "]\n",
        "\n",
        "for info in client_info:\n",
        "    thread = threading.Thread(target=publish_heartbeat, args=(info[\"client_name\"], info[\"topic\"]))\n",
        "    threads.append(thread)\n",
        "    thread.start()\n",
        "\n",
        "# 保持主线程运行\n",
        "for thread in threads:\n",
        "    thread.join()\n"
      ]
    },
    {
      "cell_type": "code",
      "source": [],
      "metadata": {
        "id": "24KMjO3uA7sT"
      },
      "execution_count": null,
      "outputs": []
    }
  ],
  "metadata": {
    "colab": {
      "provenance": []
    },
    "kernelspec": {
      "display_name": "Python 3",
      "name": "python3"
    },
    "language_info": {
      "name": "python"
    }
  },
  "nbformat": 4,
  "nbformat_minor": 0
}