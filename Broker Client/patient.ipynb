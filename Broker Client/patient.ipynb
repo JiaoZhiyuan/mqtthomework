{
  "nbformat": 4,
  "nbformat_minor": 0,
  "metadata": {
    "colab": {
      "provenance": []
    },
    "kernelspec": {
      "name": "python3",
      "display_name": "Python 3"
    },
    "language_info": {
      "name": "python"
    }
  },
  "cells": [
    {
      "cell_type": "code",
      "source": [
        "!pip install paho-mqtt"
      ],
      "metadata": {
        "colab": {
          "base_uri": "https://localhost:8080/"
        },
        "id": "LJzUOZ7s7_7n",
        "outputId": "13d15201-da23-4aca-dddb-98146f3dd8e2"
      },
      "execution_count": 2,
      "outputs": [
        {
          "output_type": "stream",
          "name": "stdout",
          "text": [
            "Collecting paho-mqtt\n",
            "  Downloading paho_mqtt-2.1.0-py3-none-any.whl (67 kB)\n",
            "\u001b[?25l     \u001b[90m━━━━━━━━━━━━━━━━━━━━━━━━━━━━━━━━━━━━━━━━\u001b[0m \u001b[32m0.0/67.2 kB\u001b[0m \u001b[31m?\u001b[0m eta \u001b[36m-:--:--\u001b[0m\r\u001b[2K     \u001b[90m━━━━━━━━━━━━━━━━━━━━━━━━━━━━━━━━━━━━━━━━\u001b[0m \u001b[32m67.2/67.2 kB\u001b[0m \u001b[31m2.3 MB/s\u001b[0m eta \u001b[36m0:00:00\u001b[0m\n",
            "\u001b[?25hInstalling collected packages: paho-mqtt\n",
            "Successfully installed paho-mqtt-2.1.0\n"
          ]
        }
      ]
    },
    {
      "cell_type": "code",
      "execution_count": 11,
      "metadata": {
        "colab": {
          "base_uri": "https://localhost:8080/",
          "height": 1000
        },
        "collapsed": true,
        "id": "yWwtJZ8j6YgF",
        "outputId": "aeb98fb3-6fdf-4f6e-e90b-a53dc4d057c7"
      },
      "outputs": [
        {
          "output_type": "stream",
          "name": "stderr",
          "text": [
            "<ipython-input-11-fcbc53e7c7f5>:11: DeprecationWarning: Callback API version 1 is deprecated, update to latest version\n",
            "  client = mqtt.Client()\n"
          ]
        },
        {
          "output_type": "stream",
          "name": "stdout",
          "text": [
            "Sent heartbeat: 105\n",
            "Sent heartbeat: 66\n",
            "Sent heartbeat: 121\n",
            "Sent heartbeat: 124\n",
            "Sent heartbeat: 90\n",
            "Sent heartbeat: 87\n",
            "Sent heartbeat: 124\n",
            "Sent heartbeat: 89\n",
            "Sent heartbeat: 105\n",
            "Sent heartbeat: 90\n",
            "Sent heartbeat: 110\n",
            "Sent heartbeat: 98\n",
            "Sent heartbeat: 81\n",
            "Sent heartbeat: 75\n",
            "Sent heartbeat: 105\n",
            "Sent heartbeat: 92\n",
            "Sent heartbeat: 61\n",
            "Sent heartbeat: 85\n",
            "Sent heartbeat: 82\n",
            "Sent heartbeat: 83\n",
            "Sent heartbeat: 129\n",
            "Sent heartbeat: 123\n",
            "Sent heartbeat: 68\n",
            "Sent heartbeat: 87\n",
            "Sent heartbeat: 114\n",
            "Sent heartbeat: 82\n",
            "Sent heartbeat: 95\n",
            "Sent heartbeat: 106\n",
            "Sent heartbeat: 120\n",
            "Sent heartbeat: 115\n",
            "Sent heartbeat: 85\n",
            "Sent heartbeat: 81\n",
            "Sent heartbeat: 74\n",
            "Sent heartbeat: 64\n",
            "Sent heartbeat: 83\n",
            "Sent heartbeat: 84\n",
            "Sent heartbeat: 77\n",
            "Sent heartbeat: 117\n",
            "Sent heartbeat: 103\n",
            "Sent heartbeat: 125\n",
            "Sent heartbeat: 79\n",
            "Sent heartbeat: 64\n",
            "Sent heartbeat: 84\n",
            "Sent heartbeat: 99\n",
            "Sent heartbeat: 127\n",
            "Sent heartbeat: 121\n",
            "Sent heartbeat: 100\n",
            "Sent heartbeat: 92\n",
            "Sent heartbeat: 86\n",
            "Sent heartbeat: 130\n",
            "Sent heartbeat: 107\n",
            "Sent heartbeat: 96\n",
            "Sent heartbeat: 68\n",
            "Sent heartbeat: 85\n",
            "Sent heartbeat: 95\n",
            "Sent heartbeat: 99\n",
            "Sent heartbeat: 116\n",
            "Sent heartbeat: 117\n",
            "Sent heartbeat: 60\n",
            "Sent heartbeat: 122\n",
            "Sent heartbeat: 82\n",
            "Sent heartbeat: 63\n",
            "Sent heartbeat: 65\n",
            "Sent heartbeat: 126\n",
            "Sent heartbeat: 96\n",
            "Sent heartbeat: 85\n",
            "Sent heartbeat: 91\n",
            "Sent heartbeat: 121\n",
            "Sent heartbeat: 120\n",
            "Sent heartbeat: 104\n",
            "Sent heartbeat: 86\n"
          ]
        },
        {
          "output_type": "error",
          "ename": "KeyboardInterrupt",
          "evalue": "",
          "traceback": [
            "\u001b[0;31m---------------------------------------------------------------------------\u001b[0m",
            "\u001b[0;31mKeyboardInterrupt\u001b[0m                         Traceback (most recent call last)",
            "\u001b[0;32m<ipython-input-11-fcbc53e7c7f5>\u001b[0m in \u001b[0;36m<cell line: 26>\u001b[0;34m()\u001b[0m\n\u001b[1;32m     24\u001b[0m \u001b[0;34m\u001b[0m\u001b[0m\n\u001b[1;32m     25\u001b[0m \u001b[0mconnect_mqtt\u001b[0m\u001b[0;34m(\u001b[0m\u001b[0;34m)\u001b[0m\u001b[0;34m\u001b[0m\u001b[0;34m\u001b[0m\u001b[0m\n\u001b[0;32m---> 26\u001b[0;31m \u001b[0mpublish_heartbeat\u001b[0m\u001b[0;34m(\u001b[0m\u001b[0;34m)\u001b[0m\u001b[0;34m\u001b[0m\u001b[0;34m\u001b[0m\u001b[0m\n\u001b[0m\u001b[1;32m     27\u001b[0m \u001b[0;34m\u001b[0m\u001b[0m\n",
            "\u001b[0;32m<ipython-input-11-fcbc53e7c7f5>\u001b[0m in \u001b[0;36mpublish_heartbeat\u001b[0;34m()\u001b[0m\n\u001b[1;32m     21\u001b[0m         \u001b[0mclient\u001b[0m\u001b[0;34m.\u001b[0m\u001b[0mpublish\u001b[0m\u001b[0;34m(\u001b[0m\u001b[0mtopic\u001b[0m\u001b[0;34m,\u001b[0m \u001b[0mheartbeat\u001b[0m\u001b[0;34m)\u001b[0m\u001b[0;34m\u001b[0m\u001b[0;34m\u001b[0m\u001b[0m\n\u001b[1;32m     22\u001b[0m         \u001b[0mprint\u001b[0m\u001b[0;34m(\u001b[0m\u001b[0;34mf\"Sent heartbeat: {heartbeat}\"\u001b[0m\u001b[0;34m)\u001b[0m\u001b[0;34m\u001b[0m\u001b[0;34m\u001b[0m\u001b[0m\n\u001b[0;32m---> 23\u001b[0;31m         \u001b[0mtime\u001b[0m\u001b[0;34m.\u001b[0m\u001b[0msleep\u001b[0m\u001b[0;34m(\u001b[0m\u001b[0;36m5\u001b[0m\u001b[0;34m)\u001b[0m  \u001b[0;31m# 每3秒发送一次\u001b[0m\u001b[0;34m\u001b[0m\u001b[0;34m\u001b[0m\u001b[0m\n\u001b[0m\u001b[1;32m     24\u001b[0m \u001b[0;34m\u001b[0m\u001b[0m\n\u001b[1;32m     25\u001b[0m \u001b[0mconnect_mqtt\u001b[0m\u001b[0;34m(\u001b[0m\u001b[0;34m)\u001b[0m\u001b[0;34m\u001b[0m\u001b[0;34m\u001b[0m\u001b[0m\n",
            "\u001b[0;31mKeyboardInterrupt\u001b[0m: "
          ]
        }
      ],
      "source": [
        "import paho.mqtt.client as mqtt\n",
        "import random\n",
        "import time\n",
        "\n",
        "broker_address = \"ke46e1b0.ala.cn-hangzhou.emqxsl.cn\"\n",
        "port = 8883\n",
        "topic = \"patient/heartbeat\"\n",
        "username = \"test\"  # MQTT用户名\n",
        "password = \"1\"     # MQTT密码\n",
        "\n",
        "client = mqtt.Client()\n",
        "\n",
        "def connect_mqtt():\n",
        "    client.username_pw_set(username, password)\n",
        "    client.connect(broker_address, port)\n",
        "    client.loop_start()\n",
        "\n",
        "def publish_heartbeat():\n",
        "    while True:\n",
        "        heartbeat = random.randint(60, 130)  # 模拟心跳数据\n",
        "        client.publish(topic, heartbeat)\n",
        "        print(f\"Sent heartbeat: {heartbeat}\")\n",
        "        time.sleep(5)  # 每5秒发送一次\n",
        "\n",
        "connect_mqtt()\n",
        "publish_heartbeat()\n",
        "\n"
      ]
    }
  ]
}